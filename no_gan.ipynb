{
  "nbformat": 4,
  "nbformat_minor": 0,
  "metadata": {
    "colab": {
      "provenance": [],
      "authorship_tag": "ABX9TyOsCZh+FsDPD0ExPl7NCFlK",
      "include_colab_link": true
    },
    "kernelspec": {
      "name": "python3",
      "display_name": "Python 3"
    },
    "language_info": {
      "name": "python"
    }
  },
  "cells": [
    {
      "cell_type": "markdown",
      "metadata": {
        "id": "view-in-github",
        "colab_type": "text"
      },
      "source": [
        "<a href=\"https://colab.research.google.com/github/githubmystique/genai/blob/ml1/no_gan.ipynb\" target=\"_parent\"><img src=\"https://colab.research.google.com/assets/colab-badge.svg\" alt=\"Open In Colab\"/></a>"
      ]
    },
    {
      "cell_type": "code",
      "execution_count": 1,
      "metadata": {
        "id": "sNvRjywmnd7a"
      },
      "outputs": [],
      "source": [
        "import numpy as np\n",
        "import pandas as pd\n",
        "import matplotlib.pyplot as plt\n",
        "from matplotlib import pyplot\n",
        "from statsmodels.distributions.empirical_distribution import ECDF"
      ]
    },
    {
      "cell_type": "code",
      "source": [
        "#--- [1] read data and only keep features and observations we want\n",
        "#- [1.1] utility functions\n",
        "def string_to_numbers(string):\n",
        "  string = string.replace(\"[\", \"\")\n",
        "  string = string.replace(\"]\", \"\")\n",
        "  string = string.replace(\" \", \"\")\n",
        "  arr = string.split(',')\n",
        "  arr = [eval(i) for i in arr]\n",
        "  return(arr)\n",
        "\n",
        "def category_to_integer(category):\n",
        "  if category == 'Yes':\n",
        "     integer = 1\n",
        "  elif category == 'No':\n",
        "     integer = 0\n",
        "  else:\n",
        "     integer = 2\n",
        "  return(integer)"
      ],
      "metadata": {
        "id": "eB-i_7hit7cB"
      },
      "execution_count": 5,
      "outputs": []
    },
    {
      "cell_type": "code",
      "source": [
        "#- [1.2] read data\n",
        "url = \"https://raw.githubusercontent.com/VincentGranville/Main/main/Telecom.csv\"\n",
        "data = pd.read_csv(url)\n",
        "features = ['tenure', 'MonthlyCharges','TotalCharges', 'Churn']\n",
        "data['Churn'] = data['Churn'].map(category_to_integer)\n",
        "data['TotalCharges'].replace(' ', np.nan, inplace=True)\n",
        "data.dropna(subset=['TotalCharges'], inplace=True) # remove missing data\n",
        "print(data.head())"
      ],
      "metadata": {
        "id": "d_jrbHGHuo6f",
        "outputId": "faef35fd-8e07-4ab1-914f-ce10b6d7c02a",
        "colab": {
          "base_uri": "https://localhost:8080/"
        }
      },
      "execution_count": 9,
      "outputs": [
        {
          "output_type": "stream",
          "name": "stdout",
          "text": [
            "   customerID  gender  SeniorCitizen Partner Dependents  tenure PhoneService  \\\n",
            "0  7590-VHVEG  Female              0     Yes         No       1           No   \n",
            "1  5575-GNVDE    Male              0      No         No      34          Yes   \n",
            "2  3668-QPYBK    Male              0      No         No       2          Yes   \n",
            "3  7795-CFOCW    Male              0      No         No      45           No   \n",
            "4  9237-HQITU  Female              0      No         No       2          Yes   \n",
            "\n",
            "      MultipleLines InternetService OnlineSecurity  ... DeviceProtection  \\\n",
            "0  No phone service             DSL             No  ...               No   \n",
            "1                No             DSL            Yes  ...              Yes   \n",
            "2                No             DSL            Yes  ...               No   \n",
            "3  No phone service             DSL            Yes  ...              Yes   \n",
            "4                No     Fiber optic             No  ...               No   \n",
            "\n",
            "  TechSupport StreamingTV StreamingMovies        Contract PaperlessBilling  \\\n",
            "0          No          No              No  Month-to-month              Yes   \n",
            "1          No          No              No        One year               No   \n",
            "2          No          No              No  Month-to-month              Yes   \n",
            "3         Yes          No              No        One year               No   \n",
            "4          No          No              No  Month-to-month              Yes   \n",
            "\n",
            "               PaymentMethod MonthlyCharges  TotalCharges Churn  \n",
            "0           Electronic check          29.85         29.85     0  \n",
            "1               Mailed check          56.95        1889.5     0  \n",
            "2               Mailed check          53.85        108.15     1  \n",
            "3  Bank transfer (automatic)          42.30       1840.75     0  \n",
            "4           Electronic check          70.70        151.65     1  \n",
            "\n",
            "[5 rows x 21 columns]\n"
          ]
        },
        {
          "output_type": "stream",
          "name": "stderr",
          "text": [
            "<ipython-input-9-4ed52a7829f0>:6: FutureWarning: A value is trying to be set on a copy of a DataFrame or Series through chained assignment using an inplace method.\n",
            "The behavior will change in pandas 3.0. This inplace method will never work because the intermediate object on which we are setting values always behaves as a copy.\n",
            "\n",
            "For example, when doing 'df[col].method(value, inplace=True)', try using 'df.method({col: value}, inplace=True)' or df[col] = df[col].method(value) instead, to perform the operation inplace on the original object.\n",
            "\n",
            "\n",
            "  data['TotalCharges'].replace(' ', np.nan, inplace=True)\n"
          ]
        }
      ]
    },
    {
      "cell_type": "code",
      "source": [
        "print (data.columns)"
      ],
      "metadata": {
        "id": "s5DFXqqHvN2T",
        "outputId": "f97e1784-8d40-42c5-ec40-018875fd8091",
        "colab": {
          "base_uri": "https://localhost:8080/"
        }
      },
      "execution_count": 8,
      "outputs": [
        {
          "output_type": "stream",
          "name": "stdout",
          "text": [
            "Index(['customerID', 'gender', 'SeniorCitizen', 'Partner', 'Dependents',\n",
            "       'tenure', 'PhoneService', 'MultipleLines', 'InternetService',\n",
            "       'OnlineSecurity', 'OnlineBackup', 'DeviceProtection', 'TechSupport',\n",
            "       'StreamingTV', 'StreamingMovies', 'Contract', 'PaperlessBilling',\n",
            "       'PaymentMethod', 'MonthlyCharges', 'TotalCharges', 'Churn'],\n",
            "      dtype='object')\n"
          ]
        }
      ]
    },
    {
      "cell_type": "code",
      "source": [
        "print (data.shape)"
      ],
      "metadata": {
        "id": "mzRBxhvNvKlm",
        "outputId": "fb3ff415-50a0-4115-ad68-1b4d3cf1028d",
        "colab": {
          "base_uri": "https://localhost:8080/"
        }
      },
      "execution_count": 7,
      "outputs": [
        {
          "output_type": "stream",
          "name": "stdout",
          "text": [
            "(7032, 21)\n"
          ]
        }
      ]
    }
  ]
}